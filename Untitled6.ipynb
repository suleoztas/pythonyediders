{
  "nbformat": 4,
  "nbformat_minor": 0,
  "metadata": {
    "colab": {
      "provenance": []
    },
    "kernelspec": {
      "name": "python3",
      "display_name": "Python 3"
    },
    "language_info": {
      "name": "python"
    }
  },
  "cells": [
    {
      "cell_type": "code",
      "execution_count": 1,
      "metadata": {
        "colab": {
          "base_uri": "https://localhost:8080/"
        },
        "id": "FawvzxnlFo-Q",
        "outputId": "3e8c5c2d-98c3-4e94-e472-6fb253f3be7b"
      },
      "outputs": [
        {
          "output_type": "stream",
          "name": "stdout",
          "text": [
            "Mounted at /content/drive\n"
          ]
        }
      ],
      "source": [
        "from google.colab import drive\n",
        "drive.mount('/content/drive')\n"
      ]
    },
    {
      "cell_type": "code",
      "source": [
        "import os\n",
        "os.chdir('/content/drive/My Drive/VERIYAPILARI_ISTKA')\n",
        "!pwd"
      ],
      "metadata": {
        "colab": {
          "base_uri": "https://localhost:8080/"
        },
        "id": "sDCPYFbWFxdW",
        "outputId": "d77a7068-18d8-4a54-d3b8-65bbb875dd50"
      },
      "execution_count": 2,
      "outputs": [
        {
          "output_type": "stream",
          "name": "stdout",
          "text": [
            "/content/drive/My Drive/VERIYAPILARI_ISTKA\n"
          ]
        }
      ]
    },
    {
      "cell_type": "code",
      "source": [
        "import pandas as pd\n",
        "VeriSetiYolu=('/content/drive/My Drive/VERIYAPILARI_ISTKA/veriseti')\n",
        "for file in os.listdir(VeriSetiYolu):\n",
        "  if file.endswith(('.xlsx','.xls')):\n",
        "    df=pd.read_excel(os.path.join(VeriSetiYolu,file))\n",
        "    df.to_csv(os.path.join(VeriSetiYolu,file.rsplit('.',1)[0]+   '.csv'),index=False)\n",
        "    print(f\"{file} dosyası CSV formatına dönüştürüldü.\")"
      ],
      "metadata": {
        "colab": {
          "base_uri": "https://localhost:8080/"
        },
        "id": "_KivxnPDGTFr",
        "outputId": "edde0f66-8614-44f6-cf5d-930acb3d7f60"
      },
      "execution_count": 3,
      "outputs": [
        {
          "output_type": "stream",
          "name": "stdout",
          "text": [
            "atktan-geri-kazanm-miktarlar.xlsx dosyası CSV formatına dönüştürüldü.\n"
          ]
        }
      ]
    },
    {
      "cell_type": "code",
      "source": [
        "import pandas as pd\n",
        "import matplotlib.pyplot as plt\n",
        "#csv Ddosyasını oku\n",
        "dosya_yolu='/content/drive/My Drive/VERIYAPILARI_ISTKA/veriseti/atktan-geri-kazanm-miktarlar.csv'\n",
        "csv_dosya=pd.read_csv(dosya_yolu)\n",
        "print(csv_dosya)"
      ],
      "metadata": {
        "colab": {
          "base_uri": "https://localhost:8080/"
        },
        "id": "__-REpl4LK3o",
        "outputId": "716cdd7e-1fdb-41f6-8903-f47581e49bde"
      },
      "execution_count": 5,
      "outputs": [
        {
          "output_type": "stream",
          "name": "stdout",
          "text": [
            "    id   Yıl  Üretilen  Kompost Miktarı [ton]  \\\n",
            "0    1  2004                            16861   \n",
            "1    2  2009                            10450   \n",
            "2    3  2014                            17136   \n",
            "3    4  2015                            18423   \n",
            "4    5  2016                            18336   \n",
            "5    6  2017                            18474   \n",
            "6    7  2018                            14673   \n",
            "7    8  2019                            16503   \n",
            "8    9  2020                            19510   \n",
            "9   10  2021                            11545   \n",
            "10  11  2022                            14971   \n",
            "11  12  2023                             6620   \n",
            "\n",
            "    İBB Tesislerinde Geri Dönüştürülen Malzeme Miktarı [ton]  \\\n",
            "0                                                1513          \n",
            "1                                                8454          \n",
            "2                                               17425          \n",
            "3                                                7069          \n",
            "4                                               18815          \n",
            "5                                               10974          \n",
            "6                                                9163          \n",
            "7                                                8832          \n",
            "8                                                4627          \n",
            "9                                                4793          \n",
            "10                                               3856          \n",
            "11                                               3073          \n",
            "\n",
            "    Atıktan Türetilmiş Yakıt Miktarı [ton]  \\\n",
            "0                                      NaN   \n",
            "1                                   1087.0   \n",
            "2                                  35552.0   \n",
            "3                                  63894.0   \n",
            "4                                  39602.0   \n",
            "5                                  13291.0   \n",
            "6                                  21757.0   \n",
            "7                                  26417.0   \n",
            "8                                  11726.0   \n",
            "9                                  11047.0   \n",
            "10                                 30952.0   \n",
            "11                                 29870.0   \n",
            "\n",
            "    Çöp Gazından Üretilen Elektrik Enerjisi Miktarları [MWh]  \n",
            "0                                                5938         \n",
            "1                                               70895         \n",
            "2                                              336547         \n",
            "3                                              282225         \n",
            "4                                              404330         \n",
            "5                                              389299         \n",
            "6                                              376765         \n",
            "7                                              477608         \n",
            "8                                              455892         \n",
            "9                                              843748         \n",
            "10                                            1306116         \n",
            "11                                            1316731         \n"
          ]
        }
      ]
    },
    {
      "cell_type": "code",
      "source": [],
      "metadata": {
        "id": "bloURgCmYFV3"
      },
      "execution_count": null,
      "outputs": []
    },
    {
      "cell_type": "code",
      "source": [],
      "metadata": {
        "id": "JaTB0IxMYFcd"
      },
      "execution_count": null,
      "outputs": []
    },
    {
      "cell_type": "code",
      "source": [],
      "metadata": {
        "id": "g4YBlarHLK7P"
      },
      "execution_count": null,
      "outputs": []
    }
  ]
}